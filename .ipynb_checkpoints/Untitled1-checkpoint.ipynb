{
 "cells": [
  {
   "cell_type": "code",
   "execution_count": 1,
   "id": "1c93a568",
   "metadata": {},
   "outputs": [
    {
     "name": "stdout",
     "output_type": "stream",
     "text": [
      "The images have same size and channels\n",
      "The images are NOT equal\n",
      "71\n"
     ]
    }
   ],
   "source": [
    "import cv2\n",
    "import numpy as np\n",
    "\n",
    "original = cv2.imread(\"Original.jpg\")\n",
    "image_to_compare = cv2.imread(\"Blur 1 70%.jpg\")\n",
    "\n",
    "# 1) Check if 2 images are equals\n",
    "if original.shape == image_to_compare.shape:\n",
    "    print(\"The images have same size and channels\")\n",
    "    difference = cv2.subtract(original, image_to_compare)\n",
    "    b, g, r = cv2.split(difference)\n",
    "\n",
    "    if cv2.countNonZero(b) == 0 and cv2.countNonZero(g) == 0 and cv2.countNonZero(r) == 0:\n",
    "        print(\"The images are completely Equal\")\n",
    "    else:\n",
    "        print(\"The images are NOT equal\")\n",
    "\n",
    "# 2) Check for similarities between the 2 images\n",
    "\n",
    "sift = cv2.xfeatures2d.SIFT_create()\n",
    "kp_1, desc_1 = sift.detectAndCompute(original, None)\n",
    "kp_2, desc_2 = sift.detectAndCompute(image_to_compare, None)\n",
    "\n",
    "index_params = dict(algorithm=0, trees=5)\n",
    "search_params = dict()\n",
    "flann = cv2.FlannBasedMatcher(index_params, search_params)\n",
    "\n",
    "matches = flann.knnMatch(desc_1, desc_2, k=2)\n",
    "\n",
    "good_points = []\n",
    "ratio = 0.6\n",
    "for m, n in matches:\n",
    "    if m.distance < ratio*n.distance:\n",
    "        good_points.append(m)\n",
    "print(len(good_points))\n",
    "result = cv2.drawMatches(original, kp_1, image_to_compare, kp_2, good_points, None)\n",
    "\n",
    "cv2.imshow(\"result\", result)\n",
    "cv2.imshow(\"Original\", original)\n",
    "cv2.imshow(\"Duplicate\", image_to_compare)\n",
    "cv2.waitKey(0)\n",
    "cv2.destroyAllWindows()"
   ]
  },
  {
   "cell_type": "code",
   "execution_count": null,
   "id": "2dbcf476",
   "metadata": {},
   "outputs": [],
   "source": []
  }
 ],
 "metadata": {
  "kernelspec": {
   "display_name": "Python 3",
   "language": "python",
   "name": "python3"
  },
  "language_info": {
   "codemirror_mode": {
    "name": "ipython",
    "version": 3
   },
   "file_extension": ".py",
   "mimetype": "text/x-python",
   "name": "python",
   "nbconvert_exporter": "python",
   "pygments_lexer": "ipython3",
   "version": "3.8.8"
  }
 },
 "nbformat": 4,
 "nbformat_minor": 5
}
