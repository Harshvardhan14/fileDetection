{
 "cells": [
  {
   "cell_type": "code",
   "execution_count": 1,
   "id": "367c497d",
   "metadata": {},
   "outputs": [],
   "source": [
    "import hashlib\n",
    "from difflib import SequenceMatcher"
   ]
  },
  {
   "cell_type": "code",
   "execution_count": 11,
   "id": "553a1bf9",
   "metadata": {},
   "outputs": [
    {
     "name": "stdout",
     "output_type": "stream",
     "text": [
      "2af45075b52c1aeaa0bccaacaa6befd0feed68bb\t2af45075b52c1aeaa0bccaacaa6befd0feed68bb\n",
      "100.0\n"
     ]
    }
   ],
   "source": [
    "def hashFile(file1, file2):\n",
    "    h1 = hashlib.sha1()\n",
    "    h2 = hashlib.sha1()\n",
    "    with open(file1, 'rb') as file:\n",
    "        chunk = 0\n",
    "        while chunk != b'':\n",
    "            chunk = file.read(1024)\n",
    "            h1.update(chunk)\n",
    "    with open(file2, 'rb') as file:\n",
    "        chunk = 0\n",
    "        while chunk != b'':\n",
    "            chunk = file.read(1024)\n",
    "            h2.update(chunk)\n",
    "    return h1.hexdigest(), h2.hexdigest()\n",
    "\n",
    "msg1, msg2 = hashFile('CSE TIME TABLE (1).pdf', 'CSE TIME TABLE (1) (2).pdf')\n",
    "print(msg1 + \"\\t\" + msg2)\n",
    "print((SequenceMatcher(None, msg1, msg2).ratio()*100))"
   ]
  },
  {
   "cell_type": "code",
   "execution_count": null,
   "id": "a8701641",
   "metadata": {},
   "outputs": [],
   "source": []
  }
 ],
 "metadata": {
  "kernelspec": {
   "display_name": "Python 3",
   "language": "python",
   "name": "python3"
  },
  "language_info": {
   "codemirror_mode": {
    "name": "ipython",
    "version": 3
   },
   "file_extension": ".py",
   "mimetype": "text/x-python",
   "name": "python",
   "nbconvert_exporter": "python",
   "pygments_lexer": "ipython3",
   "version": "3.8.8"
  }
 },
 "nbformat": 4,
 "nbformat_minor": 5
}
