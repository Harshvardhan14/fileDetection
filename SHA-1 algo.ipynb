{
 "cells": [
  {
   "cell_type": "code",
   "execution_count": 1,
   "id": "367c497d",
   "metadata": {},
   "outputs": [],
   "source": [
    "import hashlib\n",
    "from difflib import SequenceMatcher"
   ]
  },
  {
   "cell_type": "code",
   "execution_count": 3,
   "id": "553a1bf9",
   "metadata": {},
   "outputs": [
    {
     "name": "stdout",
     "output_type": "stream",
     "text": [
      "d4c69a949d0f2c1e5d9fc77a5cc4c76cc6123179\tb67c949ebbe94c2f7e7b3dbe2a0fe63729112d0f\n",
      "17.5\n"
     ]
    }
   ],
   "source": [
    "def hashFile(file1, file2):\n",
    "    h1 = hashlib.sha1()\n",
    "    h2 = hashlib.sha1()\n",
    "    with open(file1, 'rb') as file:\n",
    "        chunk = 0\n",
    "        while chunk != b'':\n",
    "            chunk = file.read(1024)\n",
    "            h1.update(chunk)\n",
    "    with open(file2, 'rb') as file:\n",
    "        chunk = 0\n",
    "        while chunk != b'':\n",
    "            chunk = file.read(1024)\n",
    "            h2.update(chunk)\n",
    "    return h1.hexdigest(), h2.hexdigest()\n",
    "\n",
    "msg1, msg2 = hashFile('4K Relaxing Nature Sounds - Short Video Clips of Nature.mp4', '4k-relaxing-nature-sounds-short-video-clips-of-nature_clwgfMEM.mp4')\n",
    "print(msg1 + \"\\t\" + msg2)\n",
    "print((SequenceMatcher(None, msg1, msg2).ratio()*100))"
   ]
  },
  {
   "cell_type": "code",
   "execution_count": null,
   "id": "a8701641",
   "metadata": {},
   "outputs": [],
   "source": []
  }
 ],
 "metadata": {
  "kernelspec": {
   "display_name": "Python 3 (ipykernel)",
   "language": "python",
   "name": "python3"
  },
  "language_info": {
   "codemirror_mode": {
    "name": "ipython",
    "version": 3
   },
   "file_extension": ".py",
   "mimetype": "text/x-python",
   "name": "python",
   "nbconvert_exporter": "python",
   "pygments_lexer": "ipython3",
   "version": "3.9.7"
  }
 },
 "nbformat": 4,
 "nbformat_minor": 5
}
