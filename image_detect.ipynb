{
 "cells": [
  {
   "cell_type": "code",
   "execution_count": 2,
   "id": "70bd0c3b",
   "metadata": {},
   "outputs": [
    {
     "name": "stdout",
     "output_type": "stream",
     "text": [
      "Requirement already satisfied: glob2 in c:\\users\\harshvardhan\\anaconda3\\lib\\site-packages (0.7)\n"
     ]
    }
   ],
   "source": [
    "! pip install glob2"
   ]
  },
  {
   "cell_type": "code",
   "execution_count": 1,
   "id": "601c52c7",
   "metadata": {},
   "outputs": [],
   "source": [
    "import cv2 as cv\n",
    "import numpy as np\n",
    "import glob2 "
   ]
  },
  {
   "cell_type": "code",
   "execution_count": 2,
   "id": "09fd171a",
   "metadata": {},
   "outputs": [],
   "source": [
    "original = cv.imread('Original.jpg')\n",
    "#all_images = glob2.iglob('images list/*')"
   ]
  },
  {
   "cell_type": "code",
   "execution_count": 3,
   "id": "b6eb9a1c",
   "metadata": {},
   "outputs": [],
   "source": [
    "all_images_to_compare = []\n",
    "titles = []\n",
    "for f in glob2.iglob(\"images list/*\"):\n",
    "    image = cv.imread(f)\n",
    "    titles.append(f)\n",
    "    all_images_to_compare.append(image)"
   ]
  },
  {
   "cell_type": "code",
   "execution_count": 4,
   "id": "5684dbdb",
   "metadata": {},
   "outputs": [
    {
     "name": "stdout",
     "output_type": "stream",
     "text": [
      "The images have same size and channels\n",
      "Image name :  images list\\Blur 1 70%.jpg\n",
      "Image matches: 72.44897959183673%\n",
      "\n",
      "The images have same size and channels\n",
      "Image name :  images list\\Blur 2 85%.jpg\n",
      "Image matches: 57.446808510638306%\n",
      "\n",
      "The images have same size and channels\n",
      "images list\\Original.jpg\n",
      "100% similar\n",
      "Image name :  images list\\Original.jpg\n",
      "Image matches: 100.0%\n",
      "\n",
      "Image name :  images list\\original_golden_bridge.jpg\n",
      "Image matches: 0.0%\n",
      "\n"
     ]
    }
   ],
   "source": [
    "for images, tlt in zip(all_images_to_compare, titles):\n",
    "    if original.shape == images.shape:\n",
    "        print(\"The images have same size and channels\")\n",
    "        difference = cv.subtract(original, images)\n",
    "        b, g, r = cv.split(difference)\n",
    "        if cv.countNonZero(b) == 0 and cv.countNonZero(g) == 0 and cv.countNonZero(r) == 0:\n",
    "            print(tlt)\n",
    "            print(\"100% similar\")\n",
    "    sift = cv.xfeatures2d.SIFT_create()\n",
    "    kp_1, desc_1 = sift.detectAndCompute(original, None)\n",
    "    kp_2, desc_2 = sift.detectAndCompute(images, None)\n",
    "    index_params = dict(algorithm=0, trees=5)\n",
    "    search_params = dict()\n",
    "    flann = cv.FlannBasedMatcher(index_params, search_params)\n",
    "    matches = flann.knnMatch(desc_1, desc_2, k=2)\n",
    "    good_points = []\n",
    "    ratio = 0.6\n",
    "    for m, n in matches:\n",
    "        if m.distance < ratio*n.distance:\n",
    "            good_points.append(m)\n",
    "    number_keypoints = 0\n",
    "    if len(kp_1) <= len(kp_2):\n",
    "        number_keypoints = len(kp_1)\n",
    "    else:\n",
    "        number_keypoints = len(kp_2)\n",
    "    print('Image name : ', tlt)\n",
    "    percentage = len(good_points)/number_keypoints * 100\n",
    "    print(\"Image matches: \" + str(percentage) + '%\\n')"
   ]
  },
  {
   "cell_type": "code",
   "execution_count": null,
   "id": "3f7dc096",
   "metadata": {},
   "outputs": [],
   "source": []
  }
 ],
 "metadata": {
  "kernelspec": {
   "display_name": "Python 3",
   "language": "python",
   "name": "python3"
  },
  "language_info": {
   "codemirror_mode": {
    "name": "ipython",
    "version": 3
   },
   "file_extension": ".py",
   "mimetype": "text/x-python",
   "name": "python",
   "nbconvert_exporter": "python",
   "pygments_lexer": "ipython3",
   "version": "3.8.8"
  }
 },
 "nbformat": 4,
 "nbformat_minor": 5
}
